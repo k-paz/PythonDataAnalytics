{
 "cells": [
  {
   "cell_type": "code",
   "execution_count": null,
   "metadata": {},
   "outputs": [],
   "source": [
    "%matplotlib inline"
   ]
  },
  {
   "cell_type": "code",
   "execution_count": null,
   "metadata": {},
   "outputs": [],
   "source": [
    "import matplotlib.pyplot as plt\n",
    "import pandas as pd"
   ]
  },
  {
   "cell_type": "code",
   "execution_count": null,
   "metadata": {},
   "outputs": [],
   "source": [
    "df = pd.read_csv('WA_Fn-UseC_-Marketing-Customer-Value-Analysis.csv')"
   ]
  },
  {
   "cell_type": "code",
   "execution_count": null,
   "metadata": {},
   "outputs": [],
   "source": [
    "df.shape"
   ]
  },
  {
   "cell_type": "code",
   "execution_count": null,
   "metadata": {},
   "outputs": [],
   "source": [
    "df.head()"
   ]
  },
  {
   "cell_type": "code",
   "execution_count": null,
   "metadata": {},
   "outputs": [],
   "source": [
    "df.columns"
   ]
  },
  {
   "cell_type": "code",
   "execution_count": null,
   "metadata": {},
   "outputs": [],
   "source": [
    "df.groupby('Response').count()['Customer']"
   ]
  },
  {
   "cell_type": "code",
   "execution_count": null,
   "metadata": {},
   "outputs": [],
   "source": [
    "ax = df.groupby('Response').count()['Customer'].plot(\n",
    "    kind='bar',\n",
    "    color='orchid',\n",
    "    grid=True,\n",
    "    figsize=(10, 7), title='Marketing Engagement')\n",
    "ax.set_xlabel('Engaged')\n",
    "ax.set_ylabel('Count')\n",
    "plt.show()"
   ]
  },
  {
   "cell_type": "code",
   "execution_count": null,
   "metadata": {},
   "outputs": [],
   "source": [
    "df.groupby('Response').count()['Customer']/df.shape[0]"
   ]
  },
  {
   "cell_type": "code",
   "execution_count": null,
   "metadata": {},
   "outputs": [],
   "source": [
    "by_offer_type_df = df.loc[\n",
    "    df['Response'] == 'Yes', # count only engaged customers\n",
    "].groupby([\n",
    "'Renew Offer Type'# engaged customers grouped by renewal offer type\n",
    "    ]).count()['Customer'] / df.groupby('Renew Offer Type').count()['Customer']\n",
    "by_offer_type_df"
   ]
  },
  {
   "cell_type": "code",
   "execution_count": null,
   "metadata": {},
   "outputs": [],
   "source": [
    "ax = (by_offer_type_df*100.0).plot(kind='bar', figsize=(7, 7), color='dodgerblue', grid=True)\n",
    "ax.set_ylabel('Engagement Rate (%)')\n",
    "plt.show()"
   ]
  },
  {
   "cell_type": "code",
   "execution_count": null,
   "metadata": {},
   "outputs": [],
   "source": [
    "by_offer_type_df = df.loc[\n",
    "    df['Response'] == 'Yes' # engaged customers\n",
    "].groupby([\n",
    "    'Renew Offer Type', 'Vehicle Class' # grouping the data by these two columns\n",
    "]).count()['Customer'] / df.groupby('Renew Offer Type').count()['Customer']# rates fo\n",
    "by_offer_type_df"
   ]
  },
  {
   "cell_type": "code",
   "execution_count": null,
   "metadata": {},
   "outputs": [],
   "source": [
    "# Make the previous output more readable using unstack function\n",
    "# to pivot the data and extract and transform the inner-level groups to columns\n",
    "by_offer_type_df = by_offer_type_df.unstack().fillna(0)\n",
    "by_offer_type_df"
   ]
  },
  {
   "cell_type": "code",
   "execution_count": null,
   "metadata": {},
   "outputs": [],
   "source": [
    "ax = (by_offer_type_df*100.0).plot(\n",
    "    kind='bar',\n",
    "    figsize=(14, 8),\n",
    "    grid=True )\n",
    "ax.set_ylabel('Engagement Rate (%)')\n",
    "plt.show()"
   ]
  },
  {
   "cell_type": "code",
   "execution_count": null,
   "metadata": {},
   "outputs": [],
   "source": [
    "# 2.4 - Engagement Rates by Sales Channel\n",
    "# We are going to analyze how engagement rates differ by different sales channels.\n",
    "by_sales_channel_df = df.loc[\n",
    "             df['Response'] == 'Yes'\n",
    "         ].groupby([\n",
    "             'Sales Channel'\n",
    "         ]).count()['Customer']/df.groupby('Sales Channel').count()['Customer']\n",
    "by_sales_channel_df"
   ]
  },
  {
   "cell_type": "code",
   "execution_count": null,
   "metadata": {},
   "outputs": [],
   "source": [
    "ax = (by_sales_channel_df*100.0).plot( kind='bar', figsize=(7, 7), color='palegreen', grid=True )\n",
    "ax.set_ylabel('Engagement Rate (%)')\n",
    "plt.show()"
   ]
  },
  {
   "cell_type": "code",
   "execution_count": null,
   "metadata": {},
   "outputs": [],
   "source": [
    "# 2.5 - Sales Channel & Vehicle Size\n",
    "# We are going to see whether customers with various vehicle sizes respond differently to different sales channels.\n",
    "by_sales_channel_df = df.loc[\n",
    "             df['Response'] == 'Yes'\n",
    "         ].groupby([\n",
    "             'Sales Channel', 'Vehicle Size'\n",
    "         ]).count()['Customer'] / df.groupby('Sales Channel').count()['Customer']\n",
    "by_sales_channel_df"
   ]
  },
  {
   "cell_type": "code",
   "execution_count": null,
   "metadata": {},
   "outputs": [],
   "source": [
    "# Unstack the data into a more visible format\n",
    "by_sales_channel_df = by_sales_channel_df.unstack().fillna(0)\n",
    "by_sales_channel_df"
   ]
  },
  {
   "cell_type": "code",
   "execution_count": null,
   "metadata": {},
   "outputs": [],
   "source": [
    "ax = (by_sales_channel_df*100.0).plot( kind='bar', figsize=(12, 7),grid=True )\n",
    "ax.set_ylabel('Engagement Rate (%)')\n",
    "plt.show()"
   ]
  },
  {
   "cell_type": "code",
   "execution_count": null,
   "metadata": {},
   "outputs": [],
   "source": [
    "# 2.6 - Engagement Rates by Months Since Policy Inception\n",
    "by_months_since_inception_df = df.loc[\n",
    "             df['Response'] == 'Yes'\n",
    "         ].groupby(\n",
    "             by='Months Since Policy Inception'\n",
    "         )['Response'].count() / df.groupby(\n",
    "             by='Months Since Policy Inception'\n",
    "         )['Response'].count() * 100.0\n",
    "by_months_since_inception_df.fillna(0)"
   ]
  },
  {
   "cell_type": "code",
   "execution_count": null,
   "metadata": {},
   "outputs": [],
   "source": [
    "ax = by_months_since_inception_df.fillna(0).plot( figsize=(10, 7),\n",
    "    title='Engagement Rates by Months Since Inception', grid=True,\n",
    "    color='skyblue')\n",
    "ax.set_xlabel('Months Since Policy Inception')\n",
    "ax.set_ylabel('Engagement Rate (%)')\n",
    "plt.show()"
   ]
  },
  {
   "cell_type": "code",
   "execution_count": null,
   "metadata": {},
   "outputs": [],
   "source": [
    "# 3. Customer Segmentation by CLV & Months Since Policy Inception\n",
    "# We are going to segment our customer base by Customer Lifetime Value and Months Since Policy Inception.\n",
    "# Take a look at the distribution of the CLV \n",
    "df['Customer Lifetime Value'].describe()"
   ]
  },
  {
   "cell_type": "code",
   "execution_count": null,
   "metadata": {},
   "outputs": [],
   "source": [
    "df['CLV Segment'] = df['Customer Lifetime Value'].apply(\n",
    "lambda x: 'High' if x > df['Customer Lifetime Value'].median() else 'Low'\n",
    ")"
   ]
  },
  {
   "cell_type": "code",
   "execution_count": null,
   "metadata": {},
   "outputs": [],
   "source": [
    "# Do the same procedure for Months Since Policy Inception \n",
    "df['Months Since Policy Inception'].describe()"
   ]
  },
  {
   "cell_type": "code",
   "execution_count": null,
   "metadata": {},
   "outputs": [],
   "source": [
    "df['Policy Age Segment'] = df['Months Since Policy Inception'].apply(\n",
    "lambda x: 'High' if x > df['Months Since Policy Inception'].median() else 'Low')"
   ]
  },
  {
   "cell_type": "code",
   "execution_count": null,
   "metadata": {},
   "outputs": [],
   "source": [
    "df.head()"
   ]
  },
  {
   "cell_type": "code",
   "execution_count": null,
   "metadata": {},
   "outputs": [],
   "source": [
    "# Visualize these segments\n",
    "ax = df.loc[\n",
    "        (df['CLV Segment'] == 'High') & (df['Policy Age Segment'] == 'High')].plot.scatter(\n",
    "        x='Months Since Policy Inception', y='Customer Lifetime Value', logy=True, color='red')\n",
    "\n",
    "df.loc[\n",
    "    (df['CLV Segment'] == 'Low') & (df['Policy Age Segment'] == 'High')].plot.scatter(\n",
    "    ax=ax,\n",
    "    x='Months Since Policy Inception', y='Customer Lifetime Value', logy=True, color='blue')\n",
    "\n",
    "df.loc[\n",
    "    (df['CLV Segment'] == 'High') & (df['Policy Age Segment'] == 'Low')].plot.scatter(\n",
    "    ax=ax,\n",
    "    x='Months Since Policy Inception', y='Customer Lifetime Value', logy=True, color='orange')\n",
    "\n",
    "df.loc[\n",
    "    (df['CLV Segment'] == 'Low') & (df['Policy Age Segment'] == 'Low')].plot.scatter(\n",
    "    ax=ax,\n",
    "    x='Months Since Policy Inception',\n",
    "    y='Customer Lifetime Value', logy=True,\n",
    "    color='green',\n",
    "    grid=True,\n",
    "    figsize=(16, 10)\n",
    "    )\n",
    "# logy=True transform the scale to log scale and it is often used for monetary values \n",
    "# as they often have high skewness in their values. \n",
    "# We have repeated the code for the plot.scatter 4 times because we have created 4 segments.\n",
    "\n",
    "ax.set_ylabel('CLV (in log scale)')\n",
    "ax.set_xlabel('Months Since Policy Inception')\n",
    "ax.set_title('Segments by CLV and Policy Age')\n",
    "plt.show()"
   ]
  },
  {
   "cell_type": "code",
   "execution_count": null,
   "metadata": {},
   "outputs": [],
   "source": [
    "# See whether there is any noticeable difference in the engagement rates among these\n",
    "engagement_rates_by_segment_df = df.loc[df['Response'] == 'Yes'].groupby(\n",
    "    ['CLV Segment', 'Policy Age Segment']). count()['Customer'] / df.groupby([\n",
    "    'CLV Segment', 'Policy Age Segment']).count()['Customer']\n",
    "engagement_rates_by_segment_df"
   ]
  },
  {
   "cell_type": "code",
   "execution_count": null,
   "metadata": {},
   "outputs": [],
   "source": [
    "# Look at these differences in a chart\n",
    "ax = (engagement_rates_by_segment_df.unstack()*100.0).plot(\n",
    "    kind='bar',\n",
    "    figsize=(10, 7),\n",
    "    grid=True )\n",
    "ax.set_ylabel('Engagement Rate (%)')\n",
    "ax.set_title('Engagement Rates by Customer Segments')\n",
    "plt.show()"
   ]
  },
  {
   "cell_type": "markdown",
   "metadata": {},
   "source": [
    "### As we can notice, High Policy Age Segment has higher engagement than the Low Policy Age Segment. This suggests that those customers who have been insured by this company longer re- spond better. Moreover, the High Policy Age and Low CLV segment has the highest engagement rate among the four segments.\n",
    "### By creating different customer segments based on customer attributes, we can better under- stand how different groups of customers behave differently, and consequently, use this informa- tion to customize the marketing messagges."
   ]
  }
 ],
 "metadata": {
  "kernelspec": {
   "display_name": "Python 3",
   "language": "python",
   "name": "python3"
  },
  "language_info": {
   "codemirror_mode": {
    "name": "ipython",
    "version": 3
   },
   "file_extension": ".py",
   "mimetype": "text/x-python",
   "name": "python",
   "nbconvert_exporter": "python",
   "pygments_lexer": "ipython3",
   "version": "3.7.3"
  }
 },
 "nbformat": 4,
 "nbformat_minor": 2
}
